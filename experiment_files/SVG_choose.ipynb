{
  "nbformat": 4,
  "nbformat_minor": 0,
  "metadata": {
    "colab": {
      "name": "SVG_choose.ipynb",
      "provenance": [],
      "authorship_tag": "ABX9TyMwrm+sJKSJNTXk4ch8ZSAD",
      "include_colab_link": true
    },
    "kernelspec": {
      "name": "python3",
      "display_name": "Python 3"
    }
  },
  "cells": [
    {
      "cell_type": "markdown",
      "metadata": {
        "id": "view-in-github",
        "colab_type": "text"
      },
      "source": [
        "<a href=\"https://colab.research.google.com/github/tyagi-iiitv/infographics_generation/blob/master/SVG_choose.ipynb\" target=\"_parent\"><img src=\"https://colab.research.google.com/assets/colab-badge.svg\" alt=\"Open In Colab\"/></a>"
      ]
    },
    {
      "cell_type": "code",
      "metadata": {
        "id": "oHVkb4IZGFdh"
      },
      "source": [
        "from natsort import natsorted\r\n",
        "from os import listdir\r\n",
        "import pandas as pd\r\n",
        "import numpy as np\r\n",
        "import matplotlib.pyplot as plt\r\n",
        "import itertools\r\n",
        "import math\r\n",
        "import os\r\n",
        "import cv2\r\n",
        "import signal\r\n",
        "import multiprocessing\r\n",
        "import time"
      ],
      "execution_count": 1,
      "outputs": []
    },
    {
      "cell_type": "code",
      "metadata": {
        "id": "-MVxFxW_GKDz"
      },
      "source": [
        "def get_uniformity(box_center, flow):\r\n",
        "    box_center = np.array(box_center)\r\n",
        "    flow = np.array(flow)\r\n",
        "    mean_dist = sum([np.linalg.norm(x[1:3]-box_center) for x in flow])/len(flow)\r\n",
        "    return sum([abs(np.linalg.norm(x[1:3]-box_center)-mean_dist) for x in flow])"
      ],
      "execution_count": 2,
      "outputs": []
    },
    {
      "cell_type": "code",
      "metadata": {
        "id": "wjnF1Ps0GXo_"
      },
      "source": [
        "def overlapping(box_dims, flow):\r\n",
        "    box_dims = np.array(box_dims)\r\n",
        "    flow = np.array(flow)\r\n",
        "    for i,elem in enumerate(flow):\r\n",
        "        if elem[1] < box_dims[0]+box_dims[2] and elem[2] < box_dims[1]+box_dims[3]:\r\n",
        "            return 0\r\n",
        "    return 1"
      ],
      "execution_count": null,
      "outputs": []
    },
    {
      "cell_type": "code",
      "metadata": {
        "id": "xMZ6TSwPGaa7"
      },
      "source": [
        "def margins(flow):\r\n",
        "    flow = np.array(flow)\r\n",
        "    mean_margin = sum([min(x[1:3]) for x in flow])/len(flow)\r\n",
        "    return sum([abs(min(x[1:3])-mean_margin) for x in flow])"
      ],
      "execution_count": null,
      "outputs": []
    },
    {
      "cell_type": "code",
      "metadata": {
        "id": "mIzQaF1DGffs"
      },
      "source": [
        "uniformity_scores = []\r\n",
        "data = np.array(plt.imread('images/train/0.jpg'))\r\n",
        "h = data.shape[0]\r\n",
        "w = data.shape[1]\r\n",
        "box_center = (h/2, w/2)\r\n",
        "for i,flow in enumerate(flows):\r\n",
        "    uniformity_scores.append(margins(flow))\r\n",
        "    \r\n",
        "    "
      ],
      "execution_count": null,
      "outputs": []
    },
    {
      "cell_type": "markdown",
      "metadata": {
        "id": "j0QtkZuyMLPz"
      },
      "source": [
        "![vg1](vg1.svg)"
      ]
    },
    {
      "cell_type": "code",
      "metadata": {
        "colab": {
          "resources": {
            "http://localhost:8080/sample_img.png": {
              "data": "CjwhRE9DVFlQRSBodG1sPgo8aHRtbCBsYW5nPWVuPgogIDxtZXRhIGNoYXJzZXQ9dXRmLTg+CiAgPG1ldGEgbmFtZT12aWV3cG9ydCBjb250ZW50PSJpbml0aWFsLXNjYWxlPTEsIG1pbmltdW0tc2NhbGU9MSwgd2lkdGg9ZGV2aWNlLXdpZHRoIj4KICA8dGl0bGU+RXJyb3IgNDA0IChOb3QgRm91bmQpISExPC90aXRsZT4KICA8c3R5bGU+CiAgICAqe21hcmdpbjowO3BhZGRpbmc6MH1odG1sLGNvZGV7Zm9udDoxNXB4LzIycHggYXJpYWwsc2Fucy1zZXJpZn1odG1se2JhY2tncm91bmQ6I2ZmZjtjb2xvcjojMjIyO3BhZGRpbmc6MTVweH1ib2R5e21hcmdpbjo3JSBhdXRvIDA7bWF4LXdpZHRoOjM5MHB4O21pbi1oZWlnaHQ6MTgwcHg7cGFkZGluZzozMHB4IDAgMTVweH0qID4gYm9keXtiYWNrZ3JvdW5kOnVybCgvL3d3dy5nb29nbGUuY29tL2ltYWdlcy9lcnJvcnMvcm9ib3QucG5nKSAxMDAlIDVweCBuby1yZXBlYXQ7cGFkZGluZy1yaWdodDoyMDVweH1we21hcmdpbjoxMXB4IDAgMjJweDtvdmVyZmxvdzpoaWRkZW59aW5ze2NvbG9yOiM3Nzc7dGV4dC1kZWNvcmF0aW9uOm5vbmV9YSBpbWd7Ym9yZGVyOjB9QG1lZGlhIHNjcmVlbiBhbmQgKG1heC13aWR0aDo3NzJweCl7Ym9keXtiYWNrZ3JvdW5kOm5vbmU7bWFyZ2luLXRvcDowO21heC13aWR0aDpub25lO3BhZGRpbmctcmlnaHQ6MH19I2xvZ297YmFja2dyb3VuZDp1cmwoLy93d3cuZ29vZ2xlLmNvbS9pbWFnZXMvbG9nb3MvZXJyb3JwYWdlL2Vycm9yX2xvZ28tMTUweDU0LnBuZykgbm8tcmVwZWF0O21hcmdpbi1sZWZ0Oi01cHh9QG1lZGlhIG9ubHkgc2NyZWVuIGFuZCAobWluLXJlc29sdXRpb246MTkyZHBpKXsjbG9nb3tiYWNrZ3JvdW5kOnVybCgvL3d3dy5nb29nbGUuY29tL2ltYWdlcy9sb2dvcy9lcnJvcnBhZ2UvZXJyb3JfbG9nby0xNTB4NTQtMngucG5nKSBuby1yZXBlYXQgMCUgMCUvMTAwJSAxMDAlOy1tb3otYm9yZGVyLWltYWdlOnVybCgvL3d3dy5nb29nbGUuY29tL2ltYWdlcy9sb2dvcy9lcnJvcnBhZ2UvZXJyb3JfbG9nby0xNTB4NTQtMngucG5nKSAwfX1AbWVkaWEgb25seSBzY3JlZW4gYW5kICgtd2Via2l0LW1pbi1kZXZpY2UtcGl4ZWwtcmF0aW86Mil7I2xvZ297YmFja2dyb3VuZDp1cmwoLy93d3cuZ29vZ2xlLmNvbS9pbWFnZXMvbG9nb3MvZXJyb3JwYWdlL2Vycm9yX2xvZ28tMTUweDU0LTJ4LnBuZykgbm8tcmVwZWF0Oy13ZWJraXQtYmFja2dyb3VuZC1zaXplOjEwMCUgMTAwJX19I2xvZ297ZGlzcGxheTppbmxpbmUtYmxvY2s7aGVpZ2h0OjU0cHg7d2lkdGg6MTUwcHh9CiAgPC9zdHlsZT4KICA8YSBocmVmPS8vd3d3Lmdvb2dsZS5jb20vPjxzcGFuIGlkPWxvZ28gYXJpYS1sYWJlbD1Hb29nbGU+PC9zcGFuPjwvYT4KICA8cD48Yj40MDQuPC9iPiA8aW5zPlRoYXTigJlzIGFuIGVycm9yLjwvaW5zPgogIDxwPiAgPGlucz5UaGF04oCZcyBhbGwgd2Uga25vdy48L2lucz4K",
              "ok": false,
              "headers": [
                [
                  "content-length",
                  "1449"
                ],
                [
                  "content-type",
                  "text/html; charset=utf-8"
                ]
              ],
              "status": 404,
              "status_text": ""
            }
          },
          "base_uri": "https://localhost:8080/",
          "height": 1000
        },
        "id": "oTYMFy7tN0nV",
        "outputId": "7c457800-58ee-4001-f219-a2f79d008e03"
      },
      "source": [
        "from IPython.display import SVG, display\r\n",
        "display(SVG(url='http://upload.wikimedia.org/wikipedia/en/a/a4/Flag_of_the_United_States.svg'))\r\n",
        "display(SVG(filename=\"vg1.svg\"))"
      ],
      "execution_count": 15,
      "outputs": [
        {
          "output_type": "display_data",
          "data": {
            "text/plain": [
              "<IPython.core.display.SVG object>"
            ],
            "image/svg+xml": "<svg height=\"650\" viewBox=\"0 0 7410 3900\" width=\"1235\" xmlns=\"http://www.w3.org/2000/svg\" xmlns:xlink=\"http://www.w3.org/1999/xlink\">\n<rect fill=\"#b22234\" height=\"3900\" width=\"7410\"/>\n<path d=\"M0,450H7410m0,600H0m0,600H7410m0,600H0m0,600H7410m0,600H0\" stroke=\"#fff\" stroke-width=\"300\"/>\n<rect fill=\"#3c3b6e\" height=\"2100\" width=\"2964\"/>\n<g fill=\"#fff\">\n<g id=\"s18\">\n<g id=\"s9\">\n<g id=\"s5\">\n<g id=\"s4\">\n<path d=\"M247,90 317.534230,307.082039 132.873218,172.917961H361.126782L176.465770,307.082039z\" id=\"s\"/>\n<use xlink:href=\"#s\" y=\"420\"/>\n<use xlink:href=\"#s\" y=\"840\"/>\n<use xlink:href=\"#s\" y=\"1260\"/>\n</g>\n<use xlink:href=\"#s\" y=\"1680\"/>\n</g>\n<use x=\"247\" xlink:href=\"#s4\" y=\"210\"/>\n</g>\n<use x=\"494\" xlink:href=\"#s9\"/>\n</g>\n<use x=\"988\" xlink:href=\"#s18\"/>\n<use x=\"1976\" xlink:href=\"#s9\"/>\n<use x=\"2470\" xlink:href=\"#s5\"/>\n</g>\n</svg>"
          },
          "metadata": {
            "tags": []
          }
        },
        {
          "output_type": "display_data",
          "data": {
            "text/plain": [
              "<IPython.core.display.SVG object>"
            ],
            "image/svg+xml": "<svg data-name=\"Layer 1\" id=\"Layer_1\" viewBox=\"0 0 573 479\" xmlns=\"http://www.w3.org/2000/svg\"><defs><style>.color-1{fill:#a1d1dd;}.color-2{fill:#e6e6e6;}.label{font-size:6em}</style></defs><path class=\"color-1\" d=\"M571.83,256H387.42C340.22,256,293,269.84,257,297.51s-54,63.93-54,100.19V539.4H387.42c47.19,0,94.39-13.84,130.4-41.5s54-63.94,54-100.2Z\" transform=\"translate(-203 -117)\"/><path class=\"color-2\" d=\"M493.52,548.84l43.4,33.35C548,590.72,563.37,596,580.32,596s32.29-5.28,43.4-13.81l43.4-33.35-43.4-33.35c-11.11-8.53-26.45-13.81-43.4-13.81S548,507,536.92,515.49Z\" transform=\"translate(-203 -117)\"/><text class=\"txt-1\" textLength=\"136.11\" x=\"368.83\" y=\"12\">Hi there</text><text class=\"txt-1\" textLength=\"272.23\" x=\"300.77\" y=\"25\">This is sample text</text><text class=\"txt-1\" textLength=\"272.23\" x=\"300.77\" y=\"38\">This is sample text</text><text class=\"txt-1\" textLength=\"272.23\" x=\"300.77\" y=\"51\">This is sample text</text><text textLength=\"272.23\" x=\"300.77\" y=\"64\">This is sample text</text><image height=\"100\" href=\"sample_img.png\" width=\"100\" x=\"130\" y=\"230\"/><text class=\"label\" x=\"230\" y=\"70\">L</text></svg>"
          },
          "metadata": {
            "tags": []
          }
        }
      ]
    },
    {
      "cell_type": "code",
      "metadata": {
        "colab": {
          "base_uri": "https://localhost:8080/"
        },
        "id": "DE9D-VpAI3WK",
        "outputId": "ed48d02c-9b47-4174-e41c-64375fa13699"
      },
      "source": [
        "from xml.dom import minidom\r\n",
        "\r\n",
        "doc = minidom.parse(\"vg1.svg\")  # parseString also exists\r\n",
        "print(doc)\r\n",
        "print(doc.getElementsByTagName('text'))\r\n",
        "x = doc.getElementsByTagName(\"text\")\r\n",
        "print(int(len(x)))\r\n",
        "# for text in doc.getElementsByTagName('text'):\r\n",
        "#   print(text)\r\n",
        "\r\n",
        "svg_text_elements = [text.getAttribute('class') for text\r\n",
        "                in doc.getElementsByTagName('text')]\r\n",
        "print(svg_text_elements)\r\n",
        "\r\n",
        "svg_image_elements = [img.getAttribute('href') for img\r\n",
        "                in doc.getElementsByTagName('image')]\r\n",
        "print(svg_image_elements)\r\n",
        "\r\n",
        "doc.unlink()"
      ],
      "execution_count": 32,
      "outputs": [
        {
          "output_type": "stream",
          "text": [
            "<xml.dom.minidom.Document object at 0x7fedb75634c8>\n",
            "[<DOM Element: text at 0x7fedb79e0898>, <DOM Element: text at 0x7fedb79e0b90>, <DOM Element: text at 0x7fedb79e0df0>, <DOM Element: text at 0x7fedb79e0f20>, <DOM Element: text at 0x7fedb79e09c8>, <DOM Element: text at 0x7fedb79e0c28>]\n",
            "6\n",
            "['txt-1', 'txt-1', 'txt-1', 'txt-1', '', 'label']\n",
            "['sample_img.png']\n"
          ],
          "name": "stdout"
        }
      ]
    },
    {
      "cell_type": "code",
      "metadata": {
        "colab": {
          "base_uri": "https://localhost:8080/"
        },
        "id": "oiBpZcMRG0Vp",
        "outputId": "ab324cbf-fbe6-40b9-beb4-8aee1435db5e"
      },
      "source": [
        "# content - no. of labels/text/images\r\n",
        "#assuming svg is a string\r\n",
        "#vg = [text_no, img_no, label_no]\r\n",
        "vg1=[3,1,1]\r\n",
        "def number(svg_text, svg_image, vg):\r\n",
        "  text_count = 0\r\n",
        "  label_count = 0\r\n",
        "  img_count = 0\r\n",
        "  # print(svg_text)\r\n",
        "  for t in svg_text:\r\n",
        "    if t==\"label\":\r\n",
        "      label_count += 1\r\n",
        "    else:\r\n",
        "      text_count = text_count + 1\r\n",
        "  img_count = len(svg_image)\r\n",
        "\r\n",
        "  # print(text_count, label_count, img_count)\r\n",
        "   \r\n",
        "  if vg[0] <= text_count and vg[1] == img_count and vg[2] == label_count:\r\n",
        "    return 1\r\n",
        "  else:\r\n",
        "    return 0\r\n",
        "\r\n",
        "number(svg_text_elements, svg_image_elements, vg1)"
      ],
      "execution_count": 46,
      "outputs": [
        {
          "output_type": "execute_result",
          "data": {
            "text/plain": [
              "1"
            ]
          },
          "metadata": {
            "tags": []
          },
          "execution_count": 46
        }
      ]
    },
    {
      "cell_type": "code",
      "metadata": {
        "id": "SvjnRv1uGXDz"
      },
      "source": [
        ""
      ],
      "execution_count": null,
      "outputs": []
    }
  ]
}